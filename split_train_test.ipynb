{
  "cells": [
    {
      "cell_type": "code",
      "execution_count": 1,
      "metadata": {
        "collapsed": true,
        "pycharm": {
          "is_executing": false
        }
      },
      "outputs": [],
      "source": "import pandas as pd\nimport numpy as np"
    },
    {
      "cell_type": "code",
      "execution_count": 15,
      "outputs": [],
      "source": "data \u003d np.genfromtxt(\"data/preprocessed_for_learning/final.csv\", dtype\u003dfloat, delimiter\u003d\u0027,\u0027, skip_header\u003d1)",
      "metadata": {
        "pycharm": {
          "metadata": false,
          "name": "#%%\n",
          "is_executing": false
        }
      }
    },
    {
      "cell_type": "code",
      "execution_count": 16,
      "outputs": [],
      "source": "X, y \u003d data[:,:-1], data[:,-1]",
      "metadata": {
        "pycharm": {
          "metadata": false,
          "name": "#%%\n",
          "is_executing": false
        }
      }
    },
    {
      "cell_type": "code",
      "execution_count": 17,
      "outputs": [],
      "source": "from sklearn.model_selection import StratifiedShuffleSplit",
      "metadata": {
        "pycharm": {
          "metadata": false,
          "name": "#%%\n",
          "is_executing": false
        }
      }
    },
    {
      "cell_type": "code",
      "execution_count": 18,
      "outputs": [],
      "source": "sss \u003d StratifiedShuffleSplit(1, test_size\u003d0.2, random_state\u003d42)",
      "metadata": {
        "pycharm": {
          "metadata": false,
          "name": "#%%\n",
          "is_executing": false
        }
      }
    },
    {
      "cell_type": "code",
      "execution_count": 19,
      "outputs": [
        {
          "name": "stdout",
          "text": [
            "TRAIN: [219 100 239 528 453 310 497 362 297 324 501  16 217 222 251 314 129 344\n  54 425 460 220 119 366 329 435 118 180   7 252 506 241 166 193 417 339\n 476 396   8 167  61 518 388 456 405 130 495 247  31 285 390 105 237 449\n 315 109 196 108 376 378 263 320 197  35 530  45 316 509 335 156 337 249\n 325 490 161 246  94 381 203 525 391  70  32  22 371  47 402 484 404 481\n 242 375 489 126 327 498 141 321 317 120 341 330  98 398 512 426 192 159\n 532  49 409 331 142 117 205 437  40 184 188 137 433 224 360 153 175 357\n 365 227 461 304 308 228 372 438 464 132 450 274 384 340 370  17 419  75\n 211 333 442 475  96 336 355 240 363  24  88 416  95 216 520 434 295 218\n 172 463 491 466 305  30 213 436 148 226 255 291  43 271  46 111  76 176\n  42 338  77 407 204  13 163 289  72 510 531  27 448  60  48 527 412 312\n  62 131 279 200 411 485  91 403 524 194  66 114  89   5  10   6  44 468\n 457 459 145  84 235 356 487  68  25  64 292 146 303 268 511  38 514 447\n  85 350 190 348 179 265 154 210 389 301 183 479 332  56 508 296  69 147\n  65 414 309 424 353 367  81 234 446 521 482 369  33 368 243  36 428 127\n 112 182 500 507 326 288 165 201   3 270 299 195 377 467 342 230 149 223\n 488  73 169  28 361 171 462 392 152 143 496 492 253 134 189 257 323 284\n  97 395 160 281 486 185 155 214  11 128 138 503 302 202 477 261 191  12\n 399 454  78  19 440 313 157 502 394 287 504 168 181 258 444 256  15 215\n  59  55  80 474 519   9  18 413  34 151 451  67 319 233 352 397 122 382\n  58 455   4 262 431 480 113  53 318 359 533 478 408 351  26 250 526 515\n 104 380 144 173 199  79 101  41 174 290 207 471 209 300 278 206 410 110\n 245 385 272 441  57 254 420  93 383  50 418 221   0 345 374 513 282 133\n  51 430 347  39  83 445 232 529 124 358 280  90 208] TEST: [ 14 162   1 264 102 354 432 307 522  20 266 125 177 364 236 276 198 283\n 346 178 150 429 231 229 135 277  86 373 164 273 322 248 421 267 439  87\n 328 334  74 494 298 401 311 386 423 406 115 286 136  71 343   2 238 516\n 158 422 186  99 473  23 260 187 116 306  63 225 103 121  82 379 275 443\n 107 212 259 493  92  52 458 465 470 349 517 140 523 387 452 472 469 293\n 123 483 139 269 244  37  21 170 106 499 427 415 294 400 505  29 393]\n"
          ],
          "output_type": "stream"
        }
      ],
      "source": "for train_index, test_index in sss.split(X, y):\n    print(\"TRAIN:\", train_index, \"TEST:\", test_index)\n    X_train, X_test \u003d X[train_index], X[test_index]\n    y_train, y_test \u003d y[train_index], y[test_index]",
      "metadata": {
        "pycharm": {
          "metadata": false,
          "name": "#%%\n",
          "is_executing": false
        }
      }
    },
    {
      "cell_type": "code",
      "execution_count": 22,
      "outputs": [],
      "source": "np.savetxt(\"data/preprocessed_for_learning/X_train.csv\", X_train, delimiter\u003d\",\", header\u003d\"x_rms,y_rms,z_rms,x_mean,y_mean,z_mean,x_std,y_std,z_std\")\nnp.savetxt(\"data/preprocessed_for_learning/X_test.csv\", X_test, delimiter\u003d\",\", header\u003d\"x_rms,y_rms,z_rms,x_mean,y_mean,z_mean,x_std,y_std,z_std\")\nnp.savetxt(\"data/preprocessed_for_learning/y_train.csv\", y_train, delimiter\u003d\",\", header\u003d\"label\")\nnp.savetxt(\"data/preprocessed_for_learning/y_test.csv\", y_test, delimiter\u003d\",\", header\u003d\"label\")\n",
      "metadata": {
        "pycharm": {
          "metadata": false,
          "name": "#%%\n",
          "is_executing": false
        }
      }
    }
  ],
  "metadata": {
    "language_info": {
      "codemirror_mode": {
        "name": "ipython",
        "version": 2
      },
      "file_extension": ".py",
      "mimetype": "text/x-python",
      "name": "python",
      "nbconvert_exporter": "python",
      "pygments_lexer": "ipython2",
      "version": "2.7.6"
    },
    "kernelspec": {
      "name": "python3",
      "language": "python",
      "display_name": "Python 3"
    }
  },
  "nbformat": 4,
  "nbformat_minor": 0
}